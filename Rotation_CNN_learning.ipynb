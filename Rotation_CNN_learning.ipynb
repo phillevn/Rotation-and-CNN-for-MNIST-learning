{
  "nbformat": 4,
  "nbformat_minor": 0,
  "metadata": {
    "colab": {
      "name": "Rotation_CNN_learning",
      "version": "0.3.2",
      "provenance": [],
      "collapsed_sections": [],
      "toc_visible": true,
      "include_colab_link": true
    },
    "kernelspec": {
      "name": "python3",
      "display_name": "Python 3"
    }
  },
  "cells": [
    {
      "cell_type": "markdown",
      "metadata": {
        "id": "view-in-github",
        "colab_type": "text"
      },
      "source": [
        "<a href=\"https://colab.research.google.com/github/phillevn/Rotation-and-CNN-for-MNIST-learning/blob/master/Rotation_CNN_learning.ipynb\" target=\"_parent\"><img src=\"https://colab.research.google.com/assets/colab-badge.svg\" alt=\"Open In Colab\"/></a>"
      ]
    },
    {
      "cell_type": "markdown",
      "metadata": {
        "id": "fXwZDJKx0zLB",
        "colab_type": "text"
      },
      "source": [
        "# Introduction"
      ]
    },
    {
      "cell_type": "markdown",
      "metadata": {
        "id": "097_gois0-h-",
        "colab_type": "text"
      },
      "source": [
        "## Convolution Neuron Network\n",
        "\n",
        "In this post we will discuss some advantages of image rotation learning for MNIST set. As we know that, Convolution Neuron Network show that it is very efficient to classify the handwriting numbers in MNIST set. With the epoch = 10, we have the accuracy upto 98% when we evaluate the x_test, y_test set. \n",
        "\n",
        "### An issue with the original dataset\n",
        "\n",
        "When we train the machine with the original dataset, it works beautifully. However, there is an issue with it. If we look closer to the dataset. The data set was almost processed to oriented in vertical way. \n",
        "\n",
        "\n",
        "\n",
        "\n",
        "\n"
      ]
    },
    {
      "cell_type": "code",
      "metadata": {
        "id": "GHNJQG983Kl-",
        "colab_type": "code",
        "colab": {}
      },
      "source": [
        "import tensorflow as tf\n",
        "from tensorflow import keras\n",
        "import datetime\n",
        "from datetime import date\n",
        "import pandas as pd\n",
        "import numpy as np\n",
        "from plotly import __version__\n",
        "%matplotlib inline\n",
        "\n",
        "import plotly.offline as pyo\n",
        "import plotly.graph_objs as go\n",
        "from plotly.offline import iplot\n",
        "\n",
        "import cufflinks as cf\n",
        "from plotly.offline import download_plotlyjs, init_notebook_mode, plot, iplot \n",
        "\n",
        "\n",
        "import matplotlib.pyplot as plt\n"
      ],
      "execution_count": 0,
      "outputs": []
    },
    {
      "cell_type": "code",
      "metadata": {
        "id": "q2IYHRBm3n1l",
        "colab_type": "code",
        "colab": {}
      },
      "source": [
        "mnist = keras.datasets.mnist\n",
        "(X1_train_full, y1_train_full), (X1_test, y1_test) = mnist.load_data()"
      ],
      "execution_count": 0,
      "outputs": []
    },
    {
      "cell_type": "markdown",
      "metadata": {
        "id": "pQ9acz1A3o-8",
        "colab_type": "text"
      },
      "source": [
        "Here is an issue I want to discuss. The following is the number 9 from the dataset"
      ]
    },
    {
      "cell_type": "code",
      "metadata": {
        "id": "Rkya8ROj31yh",
        "colab_type": "code",
        "outputId": "41ea4062-8db2-4287-9cc0-9e565bdf67f9",
        "colab": {
          "base_uri": "https://localhost:8080/",
          "height": 286
        }
      },
      "source": [
        "number = X1_test[12:13]\n",
        "number = number.reshape([28,28])\n",
        "plt.imshow(number)"
      ],
      "execution_count": 0,
      "outputs": [
        {
          "output_type": "execute_result",
          "data": {
            "text/plain": [
              "<matplotlib.image.AxesImage at 0x7f24e4c72da0>"
            ]
          },
          "metadata": {
            "tags": []
          },
          "execution_count": 42
        },
        {
          "output_type": "display_data",
          "data": {
            "image/png": "[encoded data removed]",
            "text/plain": [
              "<Figure size 432x288 with 1 Axes>"
            ]
          },
          "metadata": {
            "tags": []
          }
        }
      ]
    },
    {
      "cell_type": "markdown",
      "metadata": {
        "id": "JUAFwBzn4WGl",
        "colab_type": "text"
      },
      "source": [
        "The above picture shows us that the number 9 was already rotated such that it is in some of the most natural way. It lacks the variaties of the way to write the numbers also in normal writing and in some extreme cases. As you will see below, this is other way to write number 9 that we may see often in hand writing notes. The number as rotated 60 degree counter clockwise."
      ]
    },
    {
      "cell_type": "code",
      "metadata": {
        "id": "qkbn7lgB3UEt",
        "colab_type": "code",
        "outputId": "197bc49e-d6fc-46c9-cbe7-3fc6217b4cd8",
        "colab": {
          "base_uri": "https://localhost:8080/",
          "height": 286
        }
      },
      "source": [
        "\n",
        "import skimage\n",
        "import PIL\n",
        "g = X1_test[12:13]\n",
        "g = np.array(g, dtype='uint8')\n",
        "g=g.reshape([28,28])\n",
        "g = skimage.color.gray2rgb(g)\n",
        "g=PIL.Image.fromarray(g)\n",
        "g = g.rotate(60)\n",
        "g = np.array(g, dtype='uint8')\n",
        "plt.imshow(g)"
      ],
      "execution_count": 0,
      "outputs": [
        {
          "output_type": "execute_result",
          "data": {
            "text/plain": [
              "<matplotlib.image.AxesImage at 0x7f24e4c5fc18>"
            ]
          },
          "metadata": {
            "tags": []
          },
          "execution_count": 43
        },
        {
          "output_type": "display_data",
          "data": {
            "image/png": "[encoded data removed]",
            "text/plain": [
              "<Figure size 432x288 with 1 Axes>"
            ]
          },
          "metadata": {
            "tags": []
          }
        }
      ]
    },
    {
      "cell_type": "markdown",
      "metadata": {
        "id": "rha_9aD_5g_x",
        "colab_type": "text"
      },
      "source": [
        "## Is it a big deal?\n",
        "\n",
        "The answer is yes. Below, I will show you what it is. First, I will train the machine with the original dataset but then I will evaluate the model with the new random rotated dateset. Here is the code"
      ]
    },
    {
      "cell_type": "code",
      "metadata": {
        "id": "ivZjLT9k6HNs",
        "colab_type": "code",
        "colab": {}
      },
      "source": [
        "model = tf.keras.models.Sequential([\n",
        "  tf.keras.layers.Flatten(input_shape=(28, 28)),\n",
        "  tf.keras.layers.Dense(512, activation=tf.nn.relu),\n",
        "  tf.keras.layers.Dropout(0.2),\n",
        "  tf.keras.layers.Dense(10, activation=tf.nn.softmax)\n",
        "])\n",
        "\n",
        "model.compile(optimizer='adam',\n",
        "              loss='sparse_categorical_crossentropy',\n",
        "              metrics=['accuracy'])"
      ],
      "execution_count": 0,
      "outputs": []
    },
    {
      "cell_type": "code",
      "metadata": {
        "id": "42fD5ZKo6KWB",
        "colab_type": "code",
        "outputId": "bfad64b3-0cb1-420d-84c5-2d37a6b72a9b",
        "colab": {
          "base_uri": "https://localhost:8080/",
          "height": 382
        }
      },
      "source": [
        "mnist = tf.keras.datasets.mnist\n",
        "(x_train, y_train), (x_test, y_test) = mnist.load_data()\n",
        "x_train, x_test = x_train / 255.0, x_test / 255.0\n",
        "model.fit(x_train, y_train, epochs=10)\n",
        "\n"
      ],
      "execution_count": 24,
      "outputs": [
        {
          "output_type": "stream",
          "text": [
            "Epoch 1/10\n",
            "60000/60000 [==============================] - 9s 144us/sample - loss: 0.2173 - acc: 0.9354\n",
            "Epoch 2/10\n",
            "60000/60000 [==============================] - 11s 185us/sample - loss: 0.0975 - acc: 0.9693\n",
            "Epoch 3/10\n",
            "60000/60000 [==============================] - 11s 185us/sample - loss: 0.0690 - acc: 0.9796\n",
            "Epoch 4/10\n",
            "60000/60000 [==============================] - 11s 184us/sample - loss: 0.0530 - acc: 0.9827\n",
            "Epoch 5/10\n",
            "60000/60000 [==============================] - 11s 182us/sample - loss: 0.0436 - acc: 0.9856\n",
            "Epoch 6/10\n",
            "60000/60000 [==============================] - 11s 182us/sample - loss: 0.0362 - acc: 0.9881\n",
            "Epoch 7/10\n",
            "60000/60000 [==============================] - 10s 174us/sample - loss: 0.0316 - acc: 0.9894\n",
            "Epoch 8/10\n",
            "60000/60000 [==============================] - 9s 153us/sample - loss: 0.0277 - acc: 0.9908\n",
            "Epoch 9/10\n",
            "60000/60000 [==============================] - 11s 185us/sample - loss: 0.0258 - acc: 0.9913\n",
            "Epoch 10/10\n",
            "60000/60000 [==============================] - 11s 184us/sample - loss: 0.0193 - acc: 0.9934\n"
          ],
          "name": "stdout"
        },
        {
          "output_type": "execute_result",
          "data": {
            "text/plain": [
              "<tensorflow.python.keras.callbacks.History at 0x7f5c7f72ff98>"
            ]
          },
          "metadata": {
            "tags": []
          },
          "execution_count": 24
        }
      ]
    },
    {
      "cell_type": "markdown",
      "metadata": {
        "id": "-yjkaDkn6Xlu",
        "colab_type": "text"
      },
      "source": [
        "And we evaluate the model with the x_test"
      ]
    },
    {
      "cell_type": "code",
      "metadata": {
        "id": "JI9pbwHe6V8S",
        "colab_type": "code",
        "outputId": "6f1f83a6-b61b-439a-d788-ed3c8fcc8dbb",
        "colab": {
          "base_uri": "https://localhost:8080/",
          "height": 52
        }
      },
      "source": [
        "model.evaluate(x_test, y_test)"
      ],
      "execution_count": 25,
      "outputs": [
        {
          "output_type": "stream",
          "text": [
            "10000/10000 [==============================] - 1s 88us/sample - loss: 0.0728 - acc: 0.9809\n"
          ],
          "name": "stdout"
        },
        {
          "output_type": "execute_result",
          "data": {
            "text/plain": [
              "[0.07276960461601847, 0.9809]"
            ]
          },
          "metadata": {
            "tags": []
          },
          "execution_count": 25
        }
      ]
    },
    {
      "cell_type": "markdown",
      "metadata": {
        "id": "5bFdljy26jAx",
        "colab_type": "text"
      },
      "source": [
        "The result is very good, we attain the accuracy upto 98%"
      ]
    },
    {
      "cell_type": "markdown",
      "metadata": {
        "id": "ArZerSXw6r32",
        "colab_type": "text"
      },
      "source": [
        "Next, we create a new test set where the set was rotated by random angle from -60 to 60 degree"
      ]
    },
    {
      "cell_type": "code",
      "metadata": {
        "id": "7_zyqYdY6qNZ",
        "colab_type": "code",
        "colab": {}
      },
      "source": [
        "import random\n",
        "import skimage\n",
        "import PIL\n",
        "random.seed(100)\n",
        "mnist = tf.keras.datasets.mnist\n",
        "\n",
        "(x_train, y_train), (x_test, y_test) = mnist.load_data()\n",
        "x_gen_test = np.ndarray(shape = (len(x_test),28,28))\n",
        "x_gen_test_angle = np.ndarray(shape = (len(x_test)), dtype = 'int8')\n",
        "for index in range(len(x_test)):\n",
        "  ran_num = random.randint(-60,60)\n",
        "  g = x_test[index]\n",
        "  g = np.array(g, dtype='uint8')\n",
        "  g=g.reshape([28,28])\n",
        "  g = skimage.color.gray2rgb(g)\n",
        "  g=PIL.Image.fromarray(g)\n",
        "  g = g.rotate(ran_num)\n",
        "  g = np.array(g, dtype='uint8')\n",
        "  x_gen_test[index] = g[:,:,0]\n",
        "  x_gen_test_angle[index] = ran_num\n",
        "  \n",
        "x_gen = x_gen_test/255"
      ],
      "execution_count": 0,
      "outputs": []
    },
    {
      "cell_type": "markdown",
      "metadata": {
        "id": "FEiZOTNR7VlX",
        "colab_type": "text"
      },
      "source": [
        "Let us evaluate the model with our rotated test set"
      ]
    },
    {
      "cell_type": "code",
      "metadata": {
        "id": "hwnnE9r57e2d",
        "colab_type": "code",
        "outputId": "7f3cb8ba-3315-4da7-a0a1-05e602f63583",
        "colab": {
          "base_uri": "https://localhost:8080/",
          "height": 52
        }
      },
      "source": [
        "\n",
        "model.evaluate(x_gen, y_test)"
      ],
      "execution_count": 27,
      "outputs": [
        {
          "output_type": "stream",
          "text": [
            "10000/10000 [==============================] - 1s 81us/sample - loss: 3.1178 - acc: 0.6817\n"
          ],
          "name": "stdout"
        },
        {
          "output_type": "execute_result",
          "data": {
            "text/plain": [
              "[3.117775042438507, 0.6817]"
            ]
          },
          "metadata": {
            "tags": []
          },
          "execution_count": 27
        }
      ]
    },
    {
      "cell_type": "markdown",
      "metadata": {
        "id": "JzE7M5mP-qV5",
        "colab_type": "text"
      },
      "source": [
        "# We see that, the accuracy drops to 69%. That is not good at all. So, what happens here. We will discuss more below."
      ]
    },
    {
      "cell_type": "markdown",
      "metadata": {
        "id": "vHdOzOBe9m3B",
        "colab_type": "text"
      },
      "source": [
        "## Let us train the model with randomly rotated dataset"
      ]
    },
    {
      "cell_type": "markdown",
      "metadata": {
        "id": "J3C2ElNl95UH",
        "colab_type": "text"
      },
      "source": [
        "We keep the same model as before, let us call it new_model"
      ]
    },
    {
      "cell_type": "code",
      "metadata": {
        "id": "jSPQnbiX9uj0",
        "colab_type": "code",
        "colab": {}
      },
      "source": [
        "new_model = tf.keras.models.Sequential([\n",
        "  tf.keras.layers.Flatten(input_shape=(28, 28)),\n",
        "  tf.keras.layers.Dense(512, activation=tf.nn.relu),\n",
        "  tf.keras.layers.Dropout(0.2),\n",
        "  tf.keras.layers.Dense(10, activation=tf.nn.softmax)\n",
        "])\n",
        "\n",
        "new_model.compile(optimizer='adam',\n",
        "              loss='sparse_categorical_crossentropy',\n",
        "              metrics=['accuracy'])"
      ],
      "execution_count": 0,
      "outputs": []
    },
    {
      "cell_type": "markdown",
      "metadata": {
        "id": "nXlLCYIR-EPP",
        "colab_type": "text"
      },
      "source": [
        "We also create new training data set with random angle between -60 and 60"
      ]
    },
    {
      "cell_type": "code",
      "metadata": {
        "id": "c-TELwog-OzL",
        "colab_type": "code",
        "colab": {}
      },
      "source": [
        "import random\n",
        "import skimage\n",
        "import PIL\n",
        "random.seed(100)\n",
        "mnist = tf.keras.datasets.mnist\n",
        "\n",
        "(x_train, y_train), (x_test, y_test) = mnist.load_data()\n",
        "x_gen_train = np.ndarray(shape = (len(x_train),28,28))\n",
        "x_gen_train_angle = np.ndarray(shape = (len(x_train)), dtype = 'int8')\n",
        "for index in range(len(x_train)):\n",
        "  ran_num = random.randint(-60,60)\n",
        "  g = x_train[index]\n",
        "  g = np.array(g, dtype='uint8')\n",
        "  g=g.reshape([28,28])\n",
        "  g = skimage.color.gray2rgb(g)\n",
        "  g=PIL.Image.fromarray(g)\n",
        "  g = g.rotate(ran_num)\n",
        "  g = np.array(g, dtype='uint8')\n",
        "  x_gen_train[index] = g[:,:,0]\n",
        "  x_gen_train_angle[index] = ran_num\n",
        "  \n",
        "x_train_new= x_gen_train / 255.0\n",
        "y_train_new = y_train\n",
        "#x_train_new[30000:] = x_train[:30000]\n",
        "#y_train_new[30000:] = y_train[:30000]"
      ],
      "execution_count": 0,
      "outputs": []
    },
    {
      "cell_type": "code",
      "metadata": {
        "id": "3_407y9d-3zl",
        "colab_type": "code",
        "outputId": "89df783b-2f8b-4152-a463-62b20de9ab9c",
        "colab": {
          "base_uri": "https://localhost:8080/",
          "height": 382
        }
      },
      "source": [
        "\n",
        "new_model.fit(x_train_new, y_train_new, epochs=10)"
      ],
      "execution_count": 30,
      "outputs": [
        {
          "output_type": "stream",
          "text": [
            "Epoch 1/10\n",
            "60000/60000 [==============================] - 11s 178us/sample - loss: 0.4375 - acc: 0.8647\n",
            "Epoch 2/10\n",
            "60000/60000 [==============================] - 11s 176us/sample - loss: 0.2110 - acc: 0.9367\n",
            "Epoch 3/10\n",
            "60000/60000 [==============================] - 11s 178us/sample - loss: 0.1538 - acc: 0.9528\n",
            "Epoch 4/10\n",
            "60000/60000 [==============================] - 11s 180us/sample - loss: 0.1201 - acc: 0.9617\n",
            "Epoch 5/10\n",
            "60000/60000 [==============================] - 9s 150us/sample - loss: 0.0953 - acc: 0.9699\n",
            "Epoch 6/10\n",
            "60000/60000 [==============================] - 10s 161us/sample - loss: 0.0776 - acc: 0.9745\n",
            "Epoch 7/10\n",
            "60000/60000 [==============================] - 10s 174us/sample - loss: 0.0668 - acc: 0.9777\n",
            "Epoch 8/10\n",
            "60000/60000 [==============================] - 10s 175us/sample - loss: 0.0578 - acc: 0.9806\n",
            "Epoch 9/10\n",
            "60000/60000 [==============================] - 10s 174us/sample - loss: 0.0484 - acc: 0.9835\n",
            "Epoch 10/10\n",
            "60000/60000 [==============================] - 10s 175us/sample - loss: 0.0449 - acc: 0.9849\n"
          ],
          "name": "stdout"
        },
        {
          "output_type": "execute_result",
          "data": {
            "text/plain": [
              "<tensorflow.python.keras.callbacks.History at 0x7f5c7edc3da0>"
            ]
          },
          "metadata": {
            "tags": []
          },
          "execution_count": 30
        }
      ]
    },
    {
      "cell_type": "code",
      "metadata": {
        "id": "29WOaQpI_etx",
        "colab_type": "code",
        "outputId": "c0878a92-8f6f-4a48-a752-1f441ca4e725",
        "colab": {
          "base_uri": "https://localhost:8080/",
          "height": 52
        }
      },
      "source": [
        "x_gen = x_gen_test/255\n",
        "new_model.evaluate(x_gen, y_test)"
      ],
      "execution_count": 31,
      "outputs": [
        {
          "output_type": "stream",
          "text": [
            "10000/10000 [==============================] - 1s 75us/sample - loss: 0.1457 - acc: 0.9625\n"
          ],
          "name": "stdout"
        },
        {
          "output_type": "execute_result",
          "data": {
            "text/plain": [
              "[0.14567587878091726, 0.9625]"
            ]
          },
          "metadata": {
            "tags": []
          },
          "execution_count": 31
        }
      ]
    },
    {
      "cell_type": "code",
      "metadata": {
        "id": "4b9UMD3gBvbp",
        "colab_type": "code",
        "outputId": "9a2ef054-14e8-4591-e792-a5ff69388f8a",
        "colab": {
          "base_uri": "https://localhost:8080/",
          "height": 52
        }
      },
      "source": [
        "x_gen = x_gen_test/255\n",
        "model.evaluate(x_gen, y_test)"
      ],
      "execution_count": 32,
      "outputs": [
        {
          "output_type": "stream",
          "text": [
            "10000/10000 [==============================] - 1s 70us/sample - loss: 3.1178 - acc: 0.6817\n"
          ],
          "name": "stdout"
        },
        {
          "output_type": "execute_result",
          "data": {
            "text/plain": [
              "[3.117775042438507, 0.6817]"
            ]
          },
          "metadata": {
            "tags": []
          },
          "execution_count": 32
        }
      ]
    },
    {
      "cell_type": "markdown",
      "metadata": {
        "id": "OdRcAzdMB048",
        "colab_type": "text"
      },
      "source": [
        "The new_model gives us the accurary for the rotated test set upto 95%.  And the old model has accuracy about 69%  with the same rotated test set which is much lower than the new_model."
      ]
    },
    {
      "cell_type": "markdown",
      "metadata": {
        "id": "-CZG39a6Lzf3",
        "colab_type": "text"
      },
      "source": [
        "Then you may ask, what if we test on the original test set. Which model is better in this case. As you see below, we get 96% accuracy for the new_model but we got 98% accuracy for the old model with original training set. However, the difference is not much and it may be the cause of overfitting for the original dataset."
      ]
    },
    {
      "cell_type": "code",
      "metadata": {
        "id": "9mDk5KzpAHEd",
        "colab_type": "code",
        "outputId": "14f62682-fc59-4b22-dfd4-4d493f43a9fb",
        "colab": {
          "base_uri": "https://localhost:8080/",
          "height": 52
        }
      },
      "source": [
        "(x_train, y_train), (x_test, y_test) = mnist.load_data()\n",
        "new_model.evaluate(x_test, y_test)"
      ],
      "execution_count": 33,
      "outputs": [
        {
          "output_type": "stream",
          "text": [
            "10000/10000 [==============================] - 1s 64us/sample - loss: 28.3946 - acc: 0.9657\n"
          ],
          "name": "stdout"
        },
        {
          "output_type": "execute_result",
          "data": {
            "text/plain": [
              "[28.394580224958016, 0.9657]"
            ]
          },
          "metadata": {
            "tags": []
          },
          "execution_count": 33
        }
      ]
    },
    {
      "cell_type": "markdown",
      "metadata": {
        "id": "WhUN_oALM9Yn",
        "colab_type": "text"
      },
      "source": [
        "## Conclusion\n",
        "\n",
        "With the original dataset, we may overfit the training since some of the number was allign in the most \"vertical\" way. It lack the varieties to train the model to learn different situations which actually occurs in real life. By rotating the images, we train the model to understand different situations for the same things, and therefore, the model learn better and be able to classifies more accurate than the classical way."
      ]
    },
    {
      "cell_type": "markdown",
      "metadata": {
        "id": "rw1Mm5eAOnnC",
        "colab_type": "text"
      },
      "source": [
        "# Appendix about the code in Google Colab\n"
      ]
    },
    {
      "cell_type": "markdown",
      "metadata": {
        "id": "C4iKQeXkPLd5",
        "colab_type": "text"
      },
      "source": [
        "### Issue 1: \n",
        "\n",
        "I had a problem when I tried to show an image in Google Colab. After searching over internet (I forgot the sources), I made it works by including the following codes\n",
        "\n",
        "\n",
        "import plotly.offline as pyo\n",
        "import plotly.graph_objs as go\n",
        "from plotly.offline import iplot\n",
        "\n",
        "import cufflinks as cf\n",
        "from plotly.offline import download_plotlyjs, init_notebook_mode, plot, iplot \n",
        "\n",
        "### Issue 2: \n",
        "\n",
        "In the note, I said that we rotate the image. That means you must do it from the image, not from the np.array. If you rotate the np.mdarray, you may not have the same pictures since some part of the pictures can be transformed to different color. That means we may have some bizarre image. \n",
        "\n",
        "So, since the mist set from kerass was saved in np.mdarray, I must convert to the image by using \n",
        "\n",
        "PIL.Image.fromarray()\n",
        "\n",
        "which is from PIL library. Then we use rotate to rotate the image and then we transform back to np.mdarray and reshape the array to [28,28] dimension.\n",
        "\n",
        "Probably, there is other easy way to do all but I am lazy to find one."
      ]
    },
    {
      "cell_type": "markdown",
      "metadata": {
        "id": "1i6Vtm3E9qzl",
        "colab_type": "text"
      },
      "source": [
        "## More discussion\n",
        "\n",
        "In this part, we want to discuss about using less sample size to train our model by using just a half of observations from MNIST dataset, i.e., we only need 30,000 out of 60,000 observations. We believe that, we still have the same or at least very close accuracy compairing to using the full original dataset training model. Okay, let us start with the code.\n",
        "\n",
        "We still keep the same rotated train set we did before, but we only use the first 30,000 observations to train our model. Since we use less data, it is better to increase the epoch from 10 to 30 to get better training."
      ]
    },
    {
      "cell_type": "code",
      "metadata": {
        "id": "Q3QOfpV6BoRh",
        "colab_type": "code",
        "colab": {}
      },
      "source": [
        "halfsize_new_model = tf.keras.models.Sequential([\n",
        "  tf.keras.layers.Flatten(input_shape=(28, 28)),\n",
        "  tf.keras.layers.Dense(512, activation=tf.nn.relu),\n",
        "  tf.keras.layers.Dropout(0.2),\n",
        "  tf.keras.layers.Dense(10, activation=tf.nn.softmax)\n",
        "])\n",
        "\n",
        "halfsize_new_model.compile(optimizer='adam',\n",
        "              loss='sparse_categorical_crossentropy',\n",
        "              metrics=['accuracy'])"
      ],
      "execution_count": 0,
      "outputs": []
    },
    {
      "cell_type": "code",
      "metadata": {
        "id": "UtoB_JsI-oCn",
        "colab_type": "code",
        "colab": {
          "base_uri": "https://localhost:8080/",
          "height": 1000
        },
        "outputId": "5e5c2320-e4fd-4137-ed32-fd23fc44cba0"
      },
      "source": [
        "x_train_new= x_gen_train / 255.0\n",
        "y_train_new = y_train\n",
        "x_train_new[30000:] = x_train[:30000]\n",
        "y_train_new[30000:] = y_train[:30000]\n",
        "halfsize_new_model.fit(x_train_new, y_train_new, epochs=50)"
      ],
      "execution_count": 39,
      "outputs": [
        {
          "output_type": "stream",
          "text": [
            "Epoch 1/50\n",
            "60000/60000 [==============================] - 11s 180us/sample - loss: 0.5649 - acc: 0.9492\n",
            "Epoch 2/50\n",
            "60000/60000 [==============================] - 11s 176us/sample - loss: 0.5969 - acc: 0.9467\n",
            "Epoch 3/50\n",
            "60000/60000 [==============================] - 11s 178us/sample - loss: 0.4900 - acc: 0.9496\n",
            "Epoch 4/50\n",
            "60000/60000 [==============================] - 11s 176us/sample - loss: 0.5022 - acc: 0.9524\n",
            "Epoch 5/50\n",
            "60000/60000 [==============================] - 11s 179us/sample - loss: 0.5634 - acc: 0.9523\n",
            "Epoch 6/50\n",
            "60000/60000 [==============================] - 10s 172us/sample - loss: 0.5303 - acc: 0.9536\n",
            "Epoch 7/50\n",
            "60000/60000 [==============================] - 8s 138us/sample - loss: 0.4748 - acc: 0.9545\n",
            "Epoch 8/50\n",
            "60000/60000 [==============================] - 11s 176us/sample - loss: 0.5822 - acc: 0.9563\n",
            "Epoch 9/50\n",
            "60000/60000 [==============================] - 11s 178us/sample - loss: 0.4557 - acc: 0.9560\n",
            "Epoch 10/50\n",
            "60000/60000 [==============================] - 11s 179us/sample - loss: 0.4448 - acc: 0.9570\n",
            "Epoch 11/50\n",
            "60000/60000 [==============================] - 11s 191us/sample - loss: 0.4976 - acc: 0.9557\n",
            "Epoch 12/50\n",
            "60000/60000 [==============================] - 11s 180us/sample - loss: 0.5712 - acc: 0.9573\n",
            "Epoch 13/50\n",
            "60000/60000 [==============================] - 10s 168us/sample - loss: 0.5230 - acc: 0.9594\n",
            "Epoch 14/50\n",
            "60000/60000 [==============================] - 9s 143us/sample - loss: 0.4578 - acc: 0.9583\n",
            "Epoch 15/50\n",
            "60000/60000 [==============================] - 11s 178us/sample - loss: 0.6319 - acc: 0.9585\n",
            "Epoch 16/50\n",
            "60000/60000 [==============================] - 11s 178us/sample - loss: 0.5261 - acc: 0.9599\n",
            "Epoch 17/50\n",
            "60000/60000 [==============================] - 11s 178us/sample - loss: 0.5426 - acc: 0.9608\n",
            "Epoch 18/50\n",
            "60000/60000 [==============================] - 11s 184us/sample - loss: 0.5852 - acc: 0.9610\n",
            "Epoch 19/50\n",
            "60000/60000 [==============================] - 11s 182us/sample - loss: 0.5611 - acc: 0.9618\n",
            "Epoch 20/50\n",
            "60000/60000 [==============================] - 11s 183us/sample - loss: 0.4789 - acc: 0.9631\n",
            "Epoch 21/50\n",
            "60000/60000 [==============================] - 11s 182us/sample - loss: 0.5723 - acc: 0.9611\n",
            "Epoch 22/50\n",
            "60000/60000 [==============================] - 11s 184us/sample - loss: 0.4846 - acc: 0.9625\n",
            "Epoch 23/50\n",
            "60000/60000 [==============================] - 10s 163us/sample - loss: 0.5204 - acc: 0.9608\n",
            "Epoch 24/50\n",
            "60000/60000 [==============================] - 10s 160us/sample - loss: 0.5147 - acc: 0.9625\n",
            "Epoch 25/50\n",
            "60000/60000 [==============================] - 11s 183us/sample - loss: 0.5436 - acc: 0.9634\n",
            "Epoch 26/50\n",
            "60000/60000 [==============================] - 11s 181us/sample - loss: 0.4370 - acc: 0.9619\n",
            "Epoch 27/50\n",
            "60000/60000 [==============================] - 11s 181us/sample - loss: 0.4540 - acc: 0.9638\n",
            "Epoch 28/50\n",
            "60000/60000 [==============================] - 11s 181us/sample - loss: 0.5231 - acc: 0.9653\n",
            "Epoch 29/50\n",
            "60000/60000 [==============================] - 11s 180us/sample - loss: 0.4494 - acc: 0.9644\n",
            "Epoch 30/50\n",
            "60000/60000 [==============================] - 11s 182us/sample - loss: 0.4913 - acc: 0.9640\n",
            "Epoch 31/50\n",
            "60000/60000 [==============================] - 10s 165us/sample - loss: 0.4661 - acc: 0.9636\n",
            "Epoch 32/50\n",
            "60000/60000 [==============================] - 9s 157us/sample - loss: 0.3951 - acc: 0.9651\n",
            "Epoch 33/50\n",
            "60000/60000 [==============================] - 11s 178us/sample - loss: 0.4526 - acc: 0.9669\n",
            "Epoch 34/50\n",
            "60000/60000 [==============================] - 11s 177us/sample - loss: 0.4086 - acc: 0.9683\n",
            "Epoch 35/50\n",
            "60000/60000 [==============================] - 11s 178us/sample - loss: 0.4306 - acc: 0.9666\n",
            "Epoch 36/50\n",
            "60000/60000 [==============================] - 11s 181us/sample - loss: 0.4796 - acc: 0.9674\n",
            "Epoch 37/50\n",
            "60000/60000 [==============================] - 11s 180us/sample - loss: 0.4630 - acc: 0.9667\n",
            "Epoch 38/50\n",
            "60000/60000 [==============================] - 11s 178us/sample - loss: 0.5436 - acc: 0.9673\n",
            "Epoch 39/50\n",
            "60000/60000 [==============================] - 11s 190us/sample - loss: 0.5698 - acc: 0.9697\n",
            "Epoch 40/50\n",
            "60000/60000 [==============================] - 13s 209us/sample - loss: 0.4777 - acc: 0.9694\n",
            "Epoch 41/50\n",
            "60000/60000 [==============================] - 9s 157us/sample - loss: 0.4365 - acc: 0.9696\n",
            "Epoch 42/50\n",
            "60000/60000 [==============================] - 11s 188us/sample - loss: 0.3525 - acc: 0.9692\n",
            "Epoch 43/50\n",
            "60000/60000 [==============================] - 11s 190us/sample - loss: 0.4582 - acc: 0.9696\n",
            "Epoch 44/50\n",
            "60000/60000 [==============================] - 12s 192us/sample - loss: 0.4908 - acc: 0.9700\n",
            "Epoch 45/50\n",
            "60000/60000 [==============================] - 12s 192us/sample - loss: 0.4491 - acc: 0.9691\n",
            "Epoch 46/50\n",
            "60000/60000 [==============================] - 11s 191us/sample - loss: 0.4986 - acc: 0.9709\n",
            "Epoch 47/50\n",
            "60000/60000 [==============================] - 11s 191us/sample - loss: 0.3957 - acc: 0.9709\n",
            "Epoch 48/50\n",
            "60000/60000 [==============================] - 11s 189us/sample - loss: 0.4160 - acc: 0.9692\n",
            "Epoch 49/50\n",
            "60000/60000 [==============================] - 9s 158us/sample - loss: 0.5778 - acc: 0.9703\n",
            "Epoch 50/50\n",
            "60000/60000 [==============================] - 9s 158us/sample - loss: 0.4936 - acc: 0.9696\n"
          ],
          "name": "stdout"
        },
        {
          "output_type": "execute_result",
          "data": {
            "text/plain": [
              "<tensorflow.python.keras.callbacks.History at 0x7f5c7edc3c18>"
            ]
          },
          "metadata": {
            "tags": []
          },
          "execution_count": 39
        }
      ]
    },
    {
      "cell_type": "markdown",
      "metadata": {
        "id": "yhSOIhUg_mD3",
        "colab_type": "text"
      },
      "source": [
        "Next, we test on two cases. First case is for the original x_test and y_test and the other is the x_gen_test and y_test to see how good the training is.\n",
        "\n",
        "The following is for the original x_test, y_test evaluation of our model training"
      ]
    },
    {
      "cell_type": "code",
      "metadata": {
        "id": "TWJFoB3X_lGv",
        "colab_type": "code",
        "colab": {
          "base_uri": "https://localhost:8080/",
          "height": 52
        },
        "outputId": "ebd6a6ac-c879-4ada-97ca-4c7d452b6da1"
      },
      "source": [
        "halfsize_new_model.evaluate(x_test, y_test)"
      ],
      "execution_count": 40,
      "outputs": [
        {
          "output_type": "stream",
          "text": [
            "10000/10000 [==============================] - 1s 69us/sample - loss: 10.3412 - acc: 0.9507\n"
          ],
          "name": "stdout"
        },
        {
          "output_type": "execute_result",
          "data": {
            "text/plain": [
              "[10.341194415936961, 0.9507]"
            ]
          },
          "metadata": {
            "tags": []
          },
          "execution_count": 40
        }
      ]
    },
    {
      "cell_type": "markdown",
      "metadata": {
        "id": "5oP4BRC_D8_R",
        "colab_type": "text"
      },
      "source": [
        "So, we see that we only get 6 points for error compairing to 4 points for error in the full dataset training which is still good enough"
      ]
    },
    {
      "cell_type": "markdown",
      "metadata": {
        "id": "xYoSHtJ5AC1q",
        "colab_type": "text"
      },
      "source": [
        "And for the x_gen_new, y_gen_new"
      ]
    },
    {
      "cell_type": "code",
      "metadata": {
        "id": "NTSU6s15AIu9",
        "colab_type": "code",
        "colab": {
          "base_uri": "https://localhost:8080/",
          "height": 52
        },
        "outputId": "f6c07d43-40c6-4863-a582-6d1d6492f6de"
      },
      "source": [
        "halfsize_new_model.evaluate(x_gen, y_test)"
      ],
      "execution_count": 41,
      "outputs": [
        {
          "output_type": "stream",
          "text": [
            "10000/10000 [==============================] - 1s 96us/sample - loss: 0.4204 - acc: 0.9388\n"
          ],
          "name": "stdout"
        },
        {
          "output_type": "execute_result",
          "data": {
            "text/plain": [
              "[0.4204290042695764, 0.9388]"
            ]
          },
          "metadata": {
            "tags": []
          },
          "execution_count": 41
        }
      ]
    },
    {
      "cell_type": "markdown",
      "metadata": {
        "id": "ErkuTSNdF7mC",
        "colab_type": "text"
      },
      "source": [
        "It is not well as the model with rotation with the full data by 3 points but it is still good. If we increasing the epoch number to a larger one we may have better accuracy on the x_gen, y_test but it may be overfitting and it could reduce the ability of the model to recognize new factor."
      ]
    }
  ]
}