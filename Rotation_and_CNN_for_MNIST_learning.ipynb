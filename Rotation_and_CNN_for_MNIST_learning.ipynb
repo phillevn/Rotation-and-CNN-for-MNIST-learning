{
  "nbformat": 4,
  "nbformat_minor": 0,
  "metadata": {
    "colab": {
      "name": "Rotation-and-CNN-for-MNIST-learning.ipynb",
      "provenance": [],
      "collapsed_sections": [],
      "toc_visible": true,
      "include_colab_link": true
    },
    "kernelspec": {
      "display_name": "Python 3",
      "language": "python",
      "name": "python3"
    },
    "language_info": {
      "codemirror_mode": {
        "name": "ipython",
        "version": 3
      },
      "file_extension": ".py",
      "mimetype": "text/x-python",
      "name": "python",
      "nbconvert_exporter": "python",
      "pygments_lexer": "ipython3",
      "version": "3.7.4"
    }
  },
  "cells": [
    {
      "cell_type": "markdown",
      "metadata": {
        "id": "view-in-github",
        "colab_type": "text"
      },
      "source": [
        "<a href=\"https://colab.research.google.com/github/phillevn/Rotation-and-CNN-for-MNIST-learning/blob/master/Rotation_and_CNN_for_MNIST_learning.ipynb\" target=\"_parent\"><img src=\"https://colab.research.google.com/assets/colab-badge.svg\" alt=\"Open In Colab\"/></a>"
      ]
    },
    {
      "cell_type": "markdown",
      "metadata": {
        "colab_type": "text",
        "id": "fXwZDJKx0zLB"
      },
      "source": [
        "# Introduction"
      ]
    },
    {
      "cell_type": "markdown",
      "metadata": {
        "colab_type": "text",
        "id": "097_gois0-h-"
      },
      "source": [
        "## Neuron Network\n",
        "\n",
        "In this post we will discuss some advantages of image rotation learning for MNIST set. As we know that, Convolution Neuron Network show that it is very efficient to classify the handwriting numbers in MNIST set. With the epoch = 5, we have the accuracy upto 98% when we evaluate the x_test, y_test set. \n",
        "\n",
        "### An issue with the original dataset\n",
        "\n",
        "When we train the machine with the original dataset, it works beautifully. However, there is an issue with it. If we look closer to the dataset. The data set was almost processed to oriented in vertical way. \n",
        "\n",
        "\n",
        "\n",
        "\n",
        "\n"
      ]
    },
    {
      "cell_type": "code",
      "metadata": {
        "colab_type": "code",
        "id": "GHNJQG983Kl-",
        "colab": {
          "base_uri": "https://localhost:8080/",
          "height": 81
        },
        "outputId": "bfbb3856-1ee8-42be-b3a2-0403c6778947"
      },
      "source": [
        "import tensorflow as tf\n",
        "from tensorflow import keras\n",
        "import datetime\n",
        "from datetime import date\n",
        "import pandas as pd\n",
        "import numpy as np\n",
        "from plotly import __version__\n",
        "%matplotlib inline\n",
        "\n",
        "import plotly.offline as pyo\n",
        "import plotly.graph_objs as go\n",
        "from plotly.offline import iplot\n",
        "\n",
        "#import cufflinks as cf\n",
        "from plotly.offline import download_plotlyjs, init_notebook_mode, plot, iplot \n",
        "\n",
        "\n",
        "import matplotlib.pyplot as plt\n"
      ],
      "execution_count": 1,
      "outputs": [
        {
          "output_type": "display_data",
          "data": {
            "text/html": [
              "<p style=\"color: red;\">\n",
              "The default version of TensorFlow in Colab will soon switch to TensorFlow 2.x.<br>\n",
              "We recommend you <a href=\"https://www.tensorflow.org/guide/migrate\" target=\"_blank\">upgrade</a> now \n",
              "or ensure your notebook will continue to use TensorFlow 1.x via the <code>%tensorflow_version 1.x</code> magic:\n",
              "<a href=\"https://colab.research.google.com/notebooks/tensorflow_version.ipynb\" target=\"_blank\">more info</a>.</p>\n"
            ],
            "text/plain": [
              "<IPython.core.display.HTML object>"
            ]
          },
          "metadata": {
            "tags": []
          }
        }
      ]
    },
    {
      "cell_type": "code",
      "metadata": {
        "colab_type": "code",
        "id": "q2IYHRBm3n1l",
        "colab": {}
      },
      "source": [
        "# mnist_data = np.load(\"mnist.npz\")\n",
        "mnist = keras.datasets.mnist\n",
        "(X1_train_full, y1_train_full), (X1_test_full, y1_test_full) = mnist.load_data()\n",
        "# (X1_train_full, y1_train_full), (X1_test_full, y1_test_full)  = [(mnist_data.f.x_train, mnist_data.f.y_train), (mnist_data.f.x_test, mnist_data.f.y_test)]\n",
        "X1_train_full.shape=[60000,28,28,1]\n",
        "X1_test_full.shape = [10000,28,28,1]"
      ],
      "execution_count": 0,
      "outputs": []
    },
    {
      "cell_type": "markdown",
      "metadata": {
        "colab_type": "text",
        "id": "pQ9acz1A3o-8"
      },
      "source": [
        "Here is an issue I want to discuss. The following is the number 9 from the dataset"
      ]
    },
    {
      "cell_type": "code",
      "metadata": {
        "colab_type": "code",
        "id": "Rkya8ROj31yh",
        "outputId": "775f72ae-879c-4354-a7ca-530eb5329c91",
        "colab": {
          "base_uri": "https://localhost:8080/",
          "height": 282
        }
      },
      "source": [
        "number = X1_test_full[12:13]\n",
        "number = number.reshape([28,28])\n",
        "plt.imshow(number)"
      ],
      "execution_count": 3,
      "outputs": [
        {
          "output_type": "execute_result",
          "data": {
            "text/plain": [
              "<matplotlib.image.AxesImage at 0x7f6748abf780>"
            ]
          },
          "metadata": {
            "tags": []
          },
          "execution_count": 3
        },
        {
          "output_type": "display_data",
          "data": {
            "image/png": "[encoded data removed]",
            "text/plain": [
              "<Figure size 432x288 with 1 Axes>"
            ]
          },
          "metadata": {
            "tags": []
          }
        }
      ]
    },
    {
      "cell_type": "markdown",
      "metadata": {
        "colab_type": "text",
        "id": "JUAFwBzn4WGl"
      },
      "source": [
        "The above picture shows us that the number 9 was already rotated such that it is in some of the most natural way. It lacks the variaties of the way to write the numbers also in normal writing and in some extreme cases. As you will see below, this is other way to write number 9 that we may see often in hand writing notes. The number as rotated 60 degree counter clockwise."
      ]
    },
    {
      "cell_type": "code",
      "metadata": {
        "colab_type": "code",
        "id": "qkbn7lgB3UEt",
        "outputId": "853d735f-a688-4e43-b9e5-0be87ccef3f0",
        "colab": {
          "base_uri": "https://localhost:8080/",
          "height": 282
        }
      },
      "source": [
        "\n",
        "import skimage\n",
        "import PIL\n",
        "g = X1_test_full[12:13]\n",
        "g = np.array(g, dtype='uint8')\n",
        "g=g.reshape([28,28])\n",
        "g = skimage.color.gray2rgb(g)\n",
        "g=PIL.Image.fromarray(g)\n",
        "g = g.rotate(30)\n",
        "g = np.array(g, dtype='uint8')\n",
        "plt.imshow(g)"
      ],
      "execution_count": 4,
      "outputs": [
        {
          "output_type": "execute_result",
          "data": {
            "text/plain": [
              "<matplotlib.image.AxesImage at 0x7f673b46f4a8>"
            ]
          },
          "metadata": {
            "tags": []
          },
          "execution_count": 4
        },
        {
          "output_type": "display_data",
          "data": {
            "image/png": "[encoded data removed]",
            "text/plain": [
              "<Figure size 432x288 with 1 Axes>"
            ]
          },
          "metadata": {
            "tags": []
          }
        }
      ]
    },
    {
      "cell_type": "markdown",
      "metadata": {
        "colab_type": "text",
        "id": "rha_9aD_5g_x"
      },
      "source": [
        "## Is it a big deal?\n",
        "\n",
        "The answer is yes. Below, I will show you what it is. First, I will train the machine with the original dataset but then I will evaluate the model with the new random rotated dateset. Here is the code"
      ]
    },
    {
      "cell_type": "code",
      "metadata": {
        "colab_type": "code",
        "id": "ivZjLT9k6HNs",
        "colab": {}
      },
      "source": [
        "# model = tf.keras.models.Sequential([\n",
        "#   # keras.layers.Conv2D(filters=1, kernel_size=3, strides=2,\n",
        "#                               #  padding=\"SAME\", activation=\"relu\",input_shape=[28, 28,1]),\n",
        "    \n",
        "#   # tf.keras.layers.Flatten(),\n",
        "#   tf.keras.layers.Flatten(input_shape = (28,28)),\n",
        "#   tf.keras.layers.Dense(20, activation=tf.nn.relu),\n",
        "#   # tf.keras.layers.Dropout(0.2),\n",
        "#   tf.keras.layers.Dense(10, activation=tf.nn.softmax)\n",
        "# ])\n",
        "\n",
        "# model.compile(optimizer='adam',\n",
        "#               loss='sparse_categorical_crossentropy',\n",
        "#               metrics=['accuracy'])"
      ],
      "execution_count": 0,
      "outputs": []
    },
    {
      "cell_type": "code",
      "metadata": {
        "id": "SLlRxxwe6th8",
        "colab_type": "code",
        "colab": {
          "base_uri": "https://localhost:8080/",
          "height": 89
        },
        "outputId": "0b5b5982-c8d2-4b9b-be70-87e277787fc3"
      },
      "source": [
        "from functools import partial\n",
        "DefaultConv2D = partial(keras.layers.Conv2D,\n",
        "                            kernel_size=3, activation='relu', padding=\"SAME\")\n",
        "model = keras.models.Sequential([\n",
        "    DefaultConv2D(filters=20, kernel_size=4, input_shape=[28, 28,1]),\n",
        "#     keras.layers.MaxPooling2D(pool_size=2),\n",
        "    keras.layers.Flatten(),\n",
        "    keras.layers.Dense(units=64, activation='relu'),\n",
        "    keras.layers.Dropout(0.5),\n",
        "    keras.layers.Dense(units=10, activation='softmax'),\n",
        "])\n",
        "model.compile(optimizer='adam',\n",
        "              loss='sparse_categorical_crossentropy',\n",
        "              metrics=['accuracy'])"
      ],
      "execution_count": 5,
      "outputs": [
        {
          "output_type": "stream",
          "text": [
            "WARNING:tensorflow:From /usr/local/lib/python3.6/dist-packages/tensorflow_core/python/ops/resource_variable_ops.py:1630: calling BaseResourceVariable.__init__ (from tensorflow.python.ops.resource_variable_ops) with constraint is deprecated and will be removed in a future version.\n",
            "Instructions for updating:\n",
            "If using Keras pass *_constraint arguments to layers.\n"
          ],
          "name": "stdout"
        }
      ]
    },
    {
      "cell_type": "code",
      "metadata": {
        "colab_type": "code",
        "id": "42fD5ZKo6KWB",
        "outputId": "737f6f25-ec43-48fd-f9d8-ed0f4adb3c4e",
        "colab": {
          "base_uri": "https://localhost:8080/",
          "height": 225
        }
      },
      "source": [
        "# mnist = tf.keras.datasets.mnist\n",
        "X1_train, X1_test = X1_train_full/255, X1_test_full/255\n",
        "\n",
        "model.fit(X1_train, y1_train_full, epochs=5)\n",
        "\n"
      ],
      "execution_count": 9,
      "outputs": [
        {
          "output_type": "stream",
          "text": [
            "Train on 60000 samples\n",
            "Epoch 1/5\n",
            "60000/60000 [==============================] - 36s 596us/sample - loss: 0.3057 - acc: 0.9100\n",
            "Epoch 2/5\n",
            "60000/60000 [==============================] - 36s 604us/sample - loss: 0.1430 - acc: 0.9573\n",
            "Epoch 3/5\n",
            "60000/60000 [==============================] - 36s 605us/sample - loss: 0.1088 - acc: 0.9672\n",
            "Epoch 4/5\n",
            "60000/60000 [==============================] - 37s 610us/sample - loss: 0.0898 - acc: 0.9723\n",
            "Epoch 5/5\n",
            "60000/60000 [==============================] - 36s 604us/sample - loss: 0.0772 - acc: 0.9761\n"
          ],
          "name": "stdout"
        },
        {
          "output_type": "execute_result",
          "data": {
            "text/plain": [
              "<tensorflow.python.keras.callbacks.History at 0x7f67332ddcf8>"
            ]
          },
          "metadata": {
            "tags": []
          },
          "execution_count": 9
        }
      ]
    },
    {
      "cell_type": "markdown",
      "metadata": {
        "colab_type": "text",
        "id": "-yjkaDkn6Xlu"
      },
      "source": [
        "And we evaluate the model with the x_test"
      ]
    },
    {
      "cell_type": "code",
      "metadata": {
        "colab_type": "code",
        "id": "JI9pbwHe6V8S",
        "outputId": "21a7181b-2383-4096-dc34-aa2274c14265",
        "colab": {
          "base_uri": "https://localhost:8080/",
          "height": 52
        }
      },
      "source": [
        "model.evaluate(X1_test_full, y1_test_full)"
      ],
      "execution_count": 10,
      "outputs": [
        {
          "output_type": "stream",
          "text": [
            "10000/10000 [==============================] - 2s 185us/sample - loss: 64.5991 - acc: 0.9448\n"
          ],
          "name": "stdout"
        },
        {
          "output_type": "execute_result",
          "data": {
            "text/plain": [
              "[64.59906107045283, 0.9448]"
            ]
          },
          "metadata": {
            "tags": []
          },
          "execution_count": 10
        }
      ]
    },
    {
      "cell_type": "markdown",
      "metadata": {
        "colab_type": "text",
        "id": "5bFdljy26jAx"
      },
      "source": [
        "The result is very good, we attain the accuracy upto 94% since we only use 20 number of filters."
      ]
    },
    {
      "cell_type": "markdown",
      "metadata": {
        "colab_type": "text",
        "id": "ArZerSXw6r32"
      },
      "source": [
        "Next, we create a new test set where the set was rotated by random angle from -35 to 35 degree"
      ]
    },
    {
      "cell_type": "code",
      "metadata": {
        "colab_type": "code",
        "id": "7_zyqYdY6qNZ",
        "colab": {
          "base_uri": "https://localhost:8080/",
          "height": 34
        },
        "outputId": "fe55ed83-0701-44e1-913d-41973472e9f4"
      },
      "source": [
        "import random\n",
        "import skimage\n",
        "import PIL\n",
        "random.seed(100)\n",
        "\n",
        "x_gen_test = np.ndarray(shape = (len(X1_test_full),28,28))\n",
        "\n",
        "x_gen_test_angle = np.ndarray(shape = (len(X1_test_full)), dtype = 'int8')\n",
        "for index in range(len(X1_test_full)):\n",
        "  ran_num = random.randint(-35,35)\n",
        "  g = X1_test_full[index]\n",
        "  g.shape = [28,28]  \n",
        "  g = np.array(g, dtype='uint8')\n",
        "  g=g.reshape([28,28])\n",
        "  g = skimage.color.gray2rgb(g)\n",
        "  g=PIL.Image.fromarray(g)\n",
        "  g = g.rotate(ran_num)\n",
        "  g = np.array(g, dtype='uint8')\n",
        "  x_gen_test[index] = g[:,:,0]\n",
        "  x_gen_test_angle[index] = ran_num\n",
        "  \n",
        "\n",
        "x_gen = x_gen_test/255\n",
        "x_gen.shape = (10000,28,28,1)\n",
        "print(x_gen.shape)"
      ],
      "execution_count": 11,
      "outputs": [
        {
          "output_type": "stream",
          "text": [
            "(10000, 28, 28, 1)\n"
          ],
          "name": "stdout"
        }
      ]
    },
    {
      "cell_type": "markdown",
      "metadata": {
        "colab_type": "text",
        "id": "FEiZOTNR7VlX"
      },
      "source": [
        "Let us evaluate the model with our rotated test set"
      ]
    },
    {
      "cell_type": "code",
      "metadata": {
        "colab_type": "code",
        "id": "hwnnE9r57e2d",
        "outputId": "da018b97-5ba7-4f54-cd85-7e631ce45d9b",
        "colab": {
          "base_uri": "https://localhost:8080/",
          "height": 52
        }
      },
      "source": [
        "\n",
        "model.evaluate(x_gen, y1_test_full)"
      ],
      "execution_count": 12,
      "outputs": [
        {
          "output_type": "stream",
          "text": [
            "10000/10000 [==============================] - 2s 182us/sample - loss: 0.4521 - acc: 0.8927\n"
          ],
          "name": "stdout"
        },
        {
          "output_type": "execute_result",
          "data": {
            "text/plain": [
              "[0.4521237922511995, 0.8927]"
            ]
          },
          "metadata": {
            "tags": []
          },
          "execution_count": 12
        }
      ]
    },
    {
      "cell_type": "markdown",
      "metadata": {
        "colab_type": "text",
        "id": "JzE7M5mP-qV5"
      },
      "source": [
        "# We see that, the accuracy drops to 89%. That is not good at all. So, what happens here. We will discuss more below."
      ]
    },
    {
      "cell_type": "markdown",
      "metadata": {
        "colab_type": "text",
        "id": "vHdOzOBe9m3B"
      },
      "source": [
        "## Let us train the model with randomly rotated dataset"
      ]
    },
    {
      "cell_type": "markdown",
      "metadata": {
        "colab_type": "text",
        "id": "J3C2ElNl95UH"
      },
      "source": [
        "We keep the same model as before, let us call it new_model"
      ]
    },
    {
      "cell_type": "code",
      "metadata": {
        "colab_type": "code",
        "id": "jSPQnbiX9uj0",
        "colab": {}
      },
      "source": [
        "new_model = keras.models.Sequential([\n",
        "    DefaultConv2D(filters=20, kernel_size=4, input_shape=[28, 28,1]),\n",
        "#     keras.layers.MaxPooling2D(pool_size=2),\n",
        "    keras.layers.Flatten(),\n",
        "    keras.layers.Dense(units=64, activation='relu'),\n",
        "    keras.layers.Dropout(0.5),\n",
        "    keras.layers.Dense(units=10, activation='softmax'),\n",
        "])\n",
        "new_model.compile(optimizer='adam',\n",
        "              loss='sparse_categorical_crossentropy',\n",
        "              metrics=['accuracy'])"
      ],
      "execution_count": 0,
      "outputs": []
    },
    {
      "cell_type": "markdown",
      "metadata": {
        "colab_type": "text",
        "id": "nXlLCYIR-EPP"
      },
      "source": [
        "We also create new training data set with random angle between -60 and 60"
      ]
    },
    {
      "cell_type": "code",
      "metadata": {
        "colab_type": "code",
        "id": "c-TELwog-OzL",
        "colab": {
          "base_uri": "https://localhost:8080/",
          "height": 34
        },
        "outputId": "38c54072-5903-4b31-d176-9fa66e1576a2"
      },
      "source": [
        "import random\n",
        "import skimage\n",
        "import PIL\n",
        "random.seed(100)\n",
        "x_gen_train = np.ndarray(shape = (len(X1_train_full),28,28))\n",
        "x_gen_train_angle = np.ndarray(shape = (len(X1_train_full)), dtype = 'int8')\n",
        "for index in range(len(X1_train_full)):\n",
        "  ran_num = random.randint(-35,35)\n",
        "  g = X1_train_full[index]\n",
        "  g = np.array(g, dtype='uint8')\n",
        "  g=g.reshape([28,28])\n",
        "  g = skimage.color.gray2rgb(g)\n",
        "  g=PIL.Image.fromarray(g)\n",
        "  g = g.rotate(ran_num)\n",
        "  g = np.array(g, dtype='uint8')\n",
        "  x_gen_train[index] = g[:,:,0]\n",
        "  x_gen_train_angle[index] = ran_num\n",
        "  \n",
        "x_train_new = x_gen_train / 255.0\n",
        "\n",
        "y_train_new = y1_train_full\n",
        "x_train_new.shape = (60000,28,28,1)\n",
        "print(x_train_new.shape)\n",
        "#x_train_new[30000:] = x_train[:30000]\n",
        "#y_train_new[30000:] = y_train[:30000]"
      ],
      "execution_count": 14,
      "outputs": [
        {
          "output_type": "stream",
          "text": [
            "(60000, 28, 28, 1)\n"
          ],
          "name": "stdout"
        }
      ]
    },
    {
      "cell_type": "code",
      "metadata": {
        "colab_type": "code",
        "id": "3_407y9d-3zl",
        "outputId": "365b6941-4876-43fd-e489-48db6146a87f",
        "colab": {
          "base_uri": "https://localhost:8080/",
          "height": 225
        }
      },
      "source": [
        "\n",
        "new_model.fit(x_train_new, y_train_new, epochs=5)"
      ],
      "execution_count": 15,
      "outputs": [
        {
          "output_type": "stream",
          "text": [
            "Train on 60000 samples\n",
            "Epoch 1/5\n",
            "60000/60000 [==============================] - 37s 615us/sample - loss: 0.5381 - acc: 0.8299\n",
            "Epoch 2/5\n",
            "60000/60000 [==============================] - 37s 617us/sample - loss: 0.2843 - acc: 0.9123\n",
            "Epoch 3/5\n",
            "60000/60000 [==============================] - 37s 613us/sample - loss: 0.2309 - acc: 0.9273\n",
            "Epoch 4/5\n",
            "60000/60000 [==============================] - 37s 615us/sample - loss: 0.1932 - acc: 0.9388\n",
            "Epoch 5/5\n",
            "60000/60000 [==============================] - 37s 619us/sample - loss: 0.1661 - acc: 0.9475\n"
          ],
          "name": "stdout"
        },
        {
          "output_type": "execute_result",
          "data": {
            "text/plain": [
              "<tensorflow.python.keras.callbacks.History at 0x7f672c998748>"
            ]
          },
          "metadata": {
            "tags": []
          },
          "execution_count": 15
        }
      ]
    },
    {
      "cell_type": "code",
      "metadata": {
        "colab_type": "code",
        "id": "29WOaQpI_etx",
        "outputId": "276c2199-4624-4f0f-f570-400cc3836128",
        "colab": {
          "base_uri": "https://localhost:8080/",
          "height": 52
        }
      },
      "source": [
        "# x_gen = x_gen_test/255\n",
        "new_model.evaluate(x_gen, y1_test_full)"
      ],
      "execution_count": 16,
      "outputs": [
        {
          "output_type": "stream",
          "text": [
            "10000/10000 [==============================] - 2s 191us/sample - loss: 0.0959 - acc: 0.9697\n"
          ],
          "name": "stdout"
        },
        {
          "output_type": "execute_result",
          "data": {
            "text/plain": [
              "[0.0959413676723023, 0.9697]"
            ]
          },
          "metadata": {
            "tags": []
          },
          "execution_count": 16
        }
      ]
    },
    {
      "cell_type": "markdown",
      "metadata": {
        "colab_type": "text",
        "id": "OdRcAzdMB048"
      },
      "source": [
        "The new_model gives us the accurary for the rotated test set upto 97%.  And the old model has accuracy about 89%  with the same rotated test set which is much lower than the new_model."
      ]
    },
    {
      "cell_type": "markdown",
      "metadata": {
        "colab_type": "text",
        "id": "-CZG39a6Lzf3"
      },
      "source": [
        "Then you may ask, what if we test on the original test set. Which model is better in this case. As you see below, we get 96% accuracy for the new_model but we got 98% accuracy for the old model with original training set. However, the difference is not much and it may be the cause of overfitting for the original dataset."
      ]
    },
    {
      "cell_type": "markdown",
      "metadata": {
        "colab_type": "text",
        "id": "WhUN_oALM9Yn"
      },
      "source": [
        "## Conclusion\n",
        "\n",
        "With the original dataset, we may overfit the training since some of the number was allign in the most \"vertical\" way. It lack the varieties to train the model to learn different situations which actually occurs in real life. By rotating the images, we train the model to understand different situations for the same things, and therefore, the model learn better and be able to classifies more accurate than the classical way."
      ]
    },
    {
      "cell_type": "markdown",
      "metadata": {
        "colab_type": "text",
        "id": "rw1Mm5eAOnnC"
      },
      "source": [
        "# Appendix about the code in Google Colab\n"
      ]
    },
    {
      "cell_type": "markdown",
      "metadata": {
        "colab_type": "text",
        "id": "C4iKQeXkPLd5"
      },
      "source": [
        "### Issue 1: \n",
        "\n",
        "I had a problem when I tried to show an image in Google Colab. After searching over internet (I forgot the sources), I made it works by including the following codes\n",
        "\n",
        "\n",
        "import plotly.offline as pyo\n",
        "import plotly.graph_objs as go\n",
        "from plotly.offline import iplot\n",
        "\n",
        "import cufflinks as cf\n",
        "from plotly.offline import download_plotlyjs, init_notebook_mode, plot, iplot \n",
        "\n"
      ]
    },
    {
      "cell_type": "markdown",
      "metadata": {
        "colab_type": "text",
        "id": "omgbHahdjQ5w"
      },
      "source": [
        "### Issue 2: \n",
        "\n",
        "In the note, I said that we rotate the image. That means you must do it from the image, not from the np.array. If you rotate the np.mdarray, you may not have the same pictures since some part of the pictures can be transformed to different color. That means we may have some bizarre image. \n",
        "\n",
        "So, since the mist set from kerass was saved in np.mdarray, I must convert to the image by using \n",
        "\n",
        "PIL.Image.fromarray()\n",
        "\n",
        "which is from PIL library. Then we use rotate to rotate the image and then we transform back to np.mdarray and reshape the array to [28,28] dimension.\n",
        "\n",
        "Probably, there is other easy way to do all but I am lazy to find one."
      ]
    },
    {
      "cell_type": "markdown",
      "metadata": {
        "colab_type": "text",
        "id": "1i6Vtm3E9qzl"
      },
      "source": [
        "## More discussion\n",
        "\n",
        "In this part, we want to discuss about using less sample size to train our model by using just a half of observations from MNIST dataset, i.e., we only need 30,000 out of 60,000 observations. We believe that, we still have the same or at least very close accuracy compairing to using the full original dataset training model. Okay, let us start with the code.\n",
        "\n",
        "We still keep the same rotated train set we did before, but we only use the first 30,000 observations to train our model. Since we use less data, it is better to increase the epoch from 10 to 30 to get better training."
      ]
    },
    {
      "cell_type": "code",
      "metadata": {
        "colab_type": "code",
        "id": "Q3QOfpV6BoRh",
        "colab": {}
      },
      "source": [
        "halfsize_new_model= keras.models.Sequential([\n",
        "    DefaultConv2D(filters=20, kernel_size=4, input_shape=[28, 28,1]),\n",
        "#     keras.layers.MaxPooling2D(pool_size=2),\n",
        "    keras.layers.Flatten(),\n",
        "    keras.layers.Dense(units=64, activation='relu'),\n",
        "    keras.layers.Dropout(0.5),\n",
        "    keras.layers.Dense(units=10, activation='softmax'),\n",
        "])\n",
        "halfsize_new_model.compile(optimizer='adam',\n",
        "              loss='sparse_categorical_crossentropy',\n",
        "              metrics=['accuracy'])"
      ],
      "execution_count": 0,
      "outputs": []
    },
    {
      "cell_type": "code",
      "metadata": {
        "colab_type": "code",
        "id": "UtoB_JsI-oCn",
        "outputId": "956bc120-9057-4e33-b8c6-8dc07743c5c0",
        "colab": {
          "base_uri": "https://localhost:8080/",
          "height": 225
        }
      },
      "source": [
        "x_train_half = x_train_new[:30000]\n",
        "y_train_half = y_train_new[:30000]\n",
        "halfsize_new_model.fit(x_train_half, y_train_half, epochs=5)"
      ],
      "execution_count": 18,
      "outputs": [
        {
          "output_type": "stream",
          "text": [
            "Train on 30000 samples\n",
            "Epoch 1/5\n",
            "30000/30000 [==============================] - 19s 636us/sample - loss: 0.6538 - acc: 0.7888\n",
            "Epoch 2/5\n",
            "30000/30000 [==============================] - 19s 624us/sample - loss: 0.3327 - acc: 0.8967\n",
            "Epoch 3/5\n",
            "30000/30000 [==============================] - 19s 621us/sample - loss: 0.2508 - acc: 0.9211\n",
            "Epoch 4/5\n",
            "30000/30000 [==============================] - 19s 622us/sample - loss: 0.2070 - acc: 0.9332\n",
            "Epoch 5/5\n",
            "30000/30000 [==============================] - 19s 631us/sample - loss: 0.1754 - acc: 0.9423\n"
          ],
          "name": "stdout"
        },
        {
          "output_type": "execute_result",
          "data": {
            "text/plain": [
              "<tensorflow.python.keras.callbacks.History at 0x7f672c9cc748>"
            ]
          },
          "metadata": {
            "tags": []
          },
          "execution_count": 18
        }
      ]
    },
    {
      "cell_type": "markdown",
      "metadata": {
        "colab_type": "text",
        "id": "yhSOIhUg_mD3"
      },
      "source": [
        "Next, we test on two cases. First case is for the original x_test and y_test and the other is the x_gen_test and y_test to see how good the training is.\n",
        "\n",
        "The following is for the original x_test, y_test evaluation of our model training"
      ]
    },
    {
      "cell_type": "code",
      "metadata": {
        "colab_type": "code",
        "id": "TWJFoB3X_lGv",
        "outputId": "96a83c43-424a-403e-d963-a7b450f72327",
        "colab": {
          "base_uri": "https://localhost:8080/",
          "height": 52
        }
      },
      "source": [
        "halfsize_new_model.evaluate(X1_test_full, y1_test_full)"
      ],
      "execution_count": 19,
      "outputs": [
        {
          "output_type": "stream",
          "text": [
            "10000/10000 [==============================] - 2s 197us/sample - loss: 25.0671 - acc: 0.9558\n"
          ],
          "name": "stdout"
        },
        {
          "output_type": "execute_result",
          "data": {
            "text/plain": [
              "[25.06706997218107, 0.9558]"
            ]
          },
          "metadata": {
            "tags": []
          },
          "execution_count": 19
        }
      ]
    },
    {
      "cell_type": "markdown",
      "metadata": {
        "colab_type": "text",
        "id": "5oP4BRC_D8_R"
      },
      "source": [
        "So, we got almost the same accuracy rate 0.9558 vs. 0.9448 comparing to full data set without rotation"
      ]
    },
    {
      "cell_type": "markdown",
      "metadata": {
        "colab_type": "text",
        "id": "xYoSHtJ5AC1q"
      },
      "source": [
        "And for the x_gen_new, y_gen_new"
      ]
    },
    {
      "cell_type": "code",
      "metadata": {
        "colab_type": "code",
        "id": "NTSU6s15AIu9",
        "outputId": "afbaf768-404a-4f01-a727-243a94f3db41",
        "colab": {
          "base_uri": "https://localhost:8080/",
          "height": 52
        }
      },
      "source": [
        "halfsize_new_model.evaluate(x_gen, y1_test_full)"
      ],
      "execution_count": 20,
      "outputs": [
        {
          "output_type": "stream",
          "text": [
            "10000/10000 [==============================] - 2s 196us/sample - loss: 0.1123 - acc: 0.9648\n"
          ],
          "name": "stdout"
        },
        {
          "output_type": "execute_result",
          "data": {
            "text/plain": [
              "[0.11229656119477004, 0.9648]"
            ]
          },
          "metadata": {
            "tags": []
          },
          "execution_count": 20
        }
      ]
    },
    {
      "cell_type": "markdown",
      "metadata": {
        "colab_type": "text",
        "id": "ErkuTSNdF7mC"
      },
      "source": [
        "It is as good as the rotated cases but with the half data set."
      ]
    }
  ]
}